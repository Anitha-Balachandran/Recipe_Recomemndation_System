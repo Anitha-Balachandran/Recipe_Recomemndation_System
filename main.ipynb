{
 "cells": [
  {
   "cell_type": "markdown",
   "id": "e3d20d51",
   "metadata": {},
   "source": [
    "# Objective\n",
    "\n",
    "The primary goal of this project is to develop a recommendation system that utilizes a user-friendly Flask application to suggest recipes based on a given list of ingredients. By employing the TF-IDF (Term Frequency-Inverse Document Frequency) technique, the system will analyze ingredient input from users and generate relevant recipe recommendations along with their corresponding URLs. This will enable users to efficiently discover recipes that align with the ingredients they have on hand, thereby enhancing their cooking experience and minimizing food waste. The project aims to combine data processing, machine learning, and web development to create an intuitive platform that connects users with culinary resources tailored to their preferences.\n"
   ]
  },
  {
   "cell_type": "code",
   "execution_count": 1,
   "id": "7b522f68",
   "metadata": {},
   "outputs": [],
   "source": [
    "import pandas as pd\n",
    "import ast\n",
    "from gensim.models import Word2Vec\n",
    "import re\n",
    "from sklearn.feature_extraction.text import TfidfVectorizer\n",
    "from sklearn.metrics.pairwise import cosine_similarity\n",
    "import joblib"
   ]
  },
  {
   "cell_type": "markdown",
   "id": "07a4460d",
   "metadata": {},
   "source": [
    "# Load the dataset"
   ]
  },
  {
   "cell_type": "code",
   "execution_count": 2,
   "id": "a331c8c1",
   "metadata": {},
   "outputs": [],
   "source": [
    "df = pd.read_csv('JamieOliver_full.csv')"
   ]
  },
  {
   "cell_type": "code",
   "execution_count": 3,
   "id": "3fa61814",
   "metadata": {},
   "outputs": [
    {
     "data": {
      "text/html": [
       "<div>\n",
       "<style scoped>\n",
       "    .dataframe tbody tr th:only-of-type {\n",
       "        vertical-align: middle;\n",
       "    }\n",
       "\n",
       "    .dataframe tbody tr th {\n",
       "        vertical-align: top;\n",
       "    }\n",
       "\n",
       "    .dataframe thead th {\n",
       "        text-align: right;\n",
       "    }\n",
       "</style>\n",
       "<table border=\"1\" class=\"dataframe\">\n",
       "  <thead>\n",
       "    <tr style=\"text-align: right;\">\n",
       "      <th></th>\n",
       "      <th>recipe_urls</th>\n",
       "      <th>recipe_name</th>\n",
       "      <th>serves</th>\n",
       "      <th>cooking_time</th>\n",
       "      <th>difficulty</th>\n",
       "      <th>ingredients</th>\n",
       "    </tr>\n",
       "  </thead>\n",
       "  <tbody>\n",
       "    <tr>\n",
       "      <th>0</th>\n",
       "      <td>https://www.jamieoliver.com/recipes/duck-recip...</td>\n",
       "      <td>Roast duck with Marsala gravy</td>\n",
       "      <td>6                                             ...</td>\n",
       "      <td>2 hours 20 minutes                            ...</td>\n",
       "      <td>Not too tricky                                ...</td>\n",
       "      <td>['1 x 1.6kg whole duck', '2 heaped teaspoons C...</td>\n",
       "    </tr>\n",
       "    <tr>\n",
       "      <th>1</th>\n",
       "      <td>https://www.jamieoliver.com/recipes/vegetable-...</td>\n",
       "      <td>Best-ever Brussels sprouts</td>\n",
       "      <td>6 as a side                                   ...</td>\n",
       "      <td>30 minutes                                    ...</td>\n",
       "      <td>Not too tricky                                ...</td>\n",
       "      <td>['800 g Brussels sprouts', '2 higher-welfare C...</td>\n",
       "    </tr>\n",
       "    <tr>\n",
       "      <th>2</th>\n",
       "      <td>https://www.jamieoliver.com/recipes/pasta-reci...</td>\n",
       "      <td>Beautiful courgette carbonara</td>\n",
       "      <td>6                                             ...</td>\n",
       "      <td>20 minutes                                    ...</td>\n",
       "      <td>Not too tricky                                ...</td>\n",
       "      <td>['6 medium green and yellow courgettes', '500 ...</td>\n",
       "    </tr>\n",
       "    <tr>\n",
       "      <th>3</th>\n",
       "      <td>https://www.jamieoliver.com/recipes/vegetable-...</td>\n",
       "      <td>Roasted black bean burgers</td>\n",
       "      <td>4                                             ...</td>\n",
       "      <td>40 minutes                                    ...</td>\n",
       "      <td>Not too tricky                                ...</td>\n",
       "      <td>['1½ red onions', '200 g mixed mushrooms', '10...</td>\n",
       "    </tr>\n",
       "    <tr>\n",
       "      <th>4</th>\n",
       "      <td>https://www.jamieoliver.com/recipes/chicken-re...</td>\n",
       "      <td>Chicken &amp; tofu noodle soup</td>\n",
       "      <td>2                                             ...</td>\n",
       "      <td>1 hour 15 minutes plus chilling overnight     ...</td>\n",
       "      <td>Not too tricky                                ...</td>\n",
       "      <td>['2 shallots', '2 cloves of garlic', '2 cm pie...</td>\n",
       "    </tr>\n",
       "  </tbody>\n",
       "</table>\n",
       "</div>"
      ],
      "text/plain": [
       "                                         recipe_urls  \\\n",
       "0  https://www.jamieoliver.com/recipes/duck-recip...   \n",
       "1  https://www.jamieoliver.com/recipes/vegetable-...   \n",
       "2  https://www.jamieoliver.com/recipes/pasta-reci...   \n",
       "3  https://www.jamieoliver.com/recipes/vegetable-...   \n",
       "4  https://www.jamieoliver.com/recipes/chicken-re...   \n",
       "\n",
       "                     recipe_name  \\\n",
       "0  Roast duck with Marsala gravy   \n",
       "1     Best-ever Brussels sprouts   \n",
       "2  Beautiful courgette carbonara   \n",
       "3     Roasted black bean burgers   \n",
       "4     Chicken & tofu noodle soup   \n",
       "\n",
       "                                              serves  \\\n",
       "0  6                                             ...   \n",
       "1  6 as a side                                   ...   \n",
       "2  6                                             ...   \n",
       "3  4                                             ...   \n",
       "4  2                                             ...   \n",
       "\n",
       "                                        cooking_time  \\\n",
       "0  2 hours 20 minutes                            ...   \n",
       "1  30 minutes                                    ...   \n",
       "2  20 minutes                                    ...   \n",
       "3  40 minutes                                    ...   \n",
       "4  1 hour 15 minutes plus chilling overnight     ...   \n",
       "\n",
       "                                          difficulty  \\\n",
       "0  Not too tricky                                ...   \n",
       "1  Not too tricky                                ...   \n",
       "2  Not too tricky                                ...   \n",
       "3  Not too tricky                                ...   \n",
       "4  Not too tricky                                ...   \n",
       "\n",
       "                                         ingredients  \n",
       "0  ['1 x 1.6kg whole duck', '2 heaped teaspoons C...  \n",
       "1  ['800 g Brussels sprouts', '2 higher-welfare C...  \n",
       "2  ['6 medium green and yellow courgettes', '500 ...  \n",
       "3  ['1½ red onions', '200 g mixed mushrooms', '10...  \n",
       "4  ['2 shallots', '2 cloves of garlic', '2 cm pie...  "
      ]
     },
     "execution_count": 3,
     "metadata": {},
     "output_type": "execute_result"
    }
   ],
   "source": [
    "df.head()"
   ]
  },
  {
   "cell_type": "code",
   "execution_count": 4,
   "id": "574c7e0a",
   "metadata": {},
   "outputs": [
    {
     "name": "stdout",
     "output_type": "stream",
     "text": [
      "<class 'pandas.core.frame.DataFrame'>\n",
      "RangeIndex: 857 entries, 0 to 856\n",
      "Data columns (total 6 columns):\n",
      " #   Column        Non-Null Count  Dtype \n",
      "---  ------        --------------  ----- \n",
      " 0   recipe_urls   857 non-null    object\n",
      " 1   recipe_name   857 non-null    object\n",
      " 2   serves        853 non-null    object\n",
      " 3   cooking_time  847 non-null    object\n",
      " 4   difficulty    856 non-null    object\n",
      " 5   ingredients   857 non-null    object\n",
      "dtypes: object(6)\n",
      "memory usage: 40.3+ KB\n"
     ]
    }
   ],
   "source": [
    "df.info()"
   ]
  },
  {
   "cell_type": "markdown",
   "id": "10210534",
   "metadata": {},
   "source": [
    "# Data Cleaning - Feature Selection"
   ]
  },
  {
   "cell_type": "code",
   "execution_count": 5,
   "id": "b6580e16",
   "metadata": {},
   "outputs": [
    {
     "name": "stdout",
     "output_type": "stream",
     "text": [
      "\n",
      "Filtered DataFrame:\n"
     ]
    },
    {
     "data": {
      "text/html": [
       "<div>\n",
       "<style scoped>\n",
       "    .dataframe tbody tr th:only-of-type {\n",
       "        vertical-align: middle;\n",
       "    }\n",
       "\n",
       "    .dataframe tbody tr th {\n",
       "        vertical-align: top;\n",
       "    }\n",
       "\n",
       "    .dataframe thead th {\n",
       "        text-align: right;\n",
       "    }\n",
       "</style>\n",
       "<table border=\"1\" class=\"dataframe\">\n",
       "  <thead>\n",
       "    <tr style=\"text-align: right;\">\n",
       "      <th></th>\n",
       "      <th>recipe_urls</th>\n",
       "      <th>recipe_name</th>\n",
       "      <th>ingredients</th>\n",
       "    </tr>\n",
       "  </thead>\n",
       "  <tbody>\n",
       "    <tr>\n",
       "      <th>0</th>\n",
       "      <td>https://www.jamieoliver.com/recipes/duck-recip...</td>\n",
       "      <td>Roast duck with Marsala gravy</td>\n",
       "      <td>['1 x 1.6kg whole duck', '2 heaped teaspoons C...</td>\n",
       "    </tr>\n",
       "    <tr>\n",
       "      <th>1</th>\n",
       "      <td>https://www.jamieoliver.com/recipes/vegetable-...</td>\n",
       "      <td>Best-ever Brussels sprouts</td>\n",
       "      <td>['800 g Brussels sprouts', '2 higher-welfare C...</td>\n",
       "    </tr>\n",
       "    <tr>\n",
       "      <th>2</th>\n",
       "      <td>https://www.jamieoliver.com/recipes/pasta-reci...</td>\n",
       "      <td>Beautiful courgette carbonara</td>\n",
       "      <td>['6 medium green and yellow courgettes', '500 ...</td>\n",
       "    </tr>\n",
       "    <tr>\n",
       "      <th>3</th>\n",
       "      <td>https://www.jamieoliver.com/recipes/vegetable-...</td>\n",
       "      <td>Roasted black bean burgers</td>\n",
       "      <td>['1½ red onions', '200 g mixed mushrooms', '10...</td>\n",
       "    </tr>\n",
       "    <tr>\n",
       "      <th>4</th>\n",
       "      <td>https://www.jamieoliver.com/recipes/chicken-re...</td>\n",
       "      <td>Chicken &amp; tofu noodle soup</td>\n",
       "      <td>['2 shallots', '2 cloves of garlic', '2 cm pie...</td>\n",
       "    </tr>\n",
       "    <tr>\n",
       "      <th>...</th>\n",
       "      <td>...</td>\n",
       "      <td>...</td>\n",
       "      <td>...</td>\n",
       "    </tr>\n",
       "    <tr>\n",
       "      <th>852</th>\n",
       "      <td>https://www.jamieoliver.com/recipes/vegetables...</td>\n",
       "      <td>Delicious squash daal</td>\n",
       "      <td>['8 cloves of garlic', '2 fresh red chillies',...</td>\n",
       "    </tr>\n",
       "    <tr>\n",
       "      <th>853</th>\n",
       "      <td>https://www.jamieoliver.com/recipes/chicken-re...</td>\n",
       "      <td>Chicken &amp; squash cacciatore</td>\n",
       "      <td>['1 onion', '1 leek', '4 cloves of garlic', '2...</td>\n",
       "    </tr>\n",
       "    <tr>\n",
       "      <th>854</th>\n",
       "      <td>https://www.jamieoliver.com/recipes/vegetables...</td>\n",
       "      <td>Apple &amp; Lancashire cheese pie</td>\n",
       "      <td>['500 g all butter puff pastry', '1 vegetable ...</td>\n",
       "    </tr>\n",
       "    <tr>\n",
       "      <th>855</th>\n",
       "      <td>https://www.jamieoliver.com/recipes/chicken-re...</td>\n",
       "      <td>All-in-one rice &amp; chicken</td>\n",
       "      <td>['olive oil', '2 free-range chicken legs', '2 ...</td>\n",
       "    </tr>\n",
       "    <tr>\n",
       "      <th>856</th>\n",
       "      <td>https://www.jamieoliver.com/recipes/vegetables...</td>\n",
       "      <td>Aubergine daal</td>\n",
       "      <td>['1 large aubergine', '2 red onions', '4 clove...</td>\n",
       "    </tr>\n",
       "  </tbody>\n",
       "</table>\n",
       "<p>857 rows × 3 columns</p>\n",
       "</div>"
      ],
      "text/plain": [
       "                                           recipe_urls  \\\n",
       "0    https://www.jamieoliver.com/recipes/duck-recip...   \n",
       "1    https://www.jamieoliver.com/recipes/vegetable-...   \n",
       "2    https://www.jamieoliver.com/recipes/pasta-reci...   \n",
       "3    https://www.jamieoliver.com/recipes/vegetable-...   \n",
       "4    https://www.jamieoliver.com/recipes/chicken-re...   \n",
       "..                                                 ...   \n",
       "852  https://www.jamieoliver.com/recipes/vegetables...   \n",
       "853  https://www.jamieoliver.com/recipes/chicken-re...   \n",
       "854  https://www.jamieoliver.com/recipes/vegetables...   \n",
       "855  https://www.jamieoliver.com/recipes/chicken-re...   \n",
       "856  https://www.jamieoliver.com/recipes/vegetables...   \n",
       "\n",
       "                       recipe_name  \\\n",
       "0    Roast duck with Marsala gravy   \n",
       "1       Best-ever Brussels sprouts   \n",
       "2    Beautiful courgette carbonara   \n",
       "3       Roasted black bean burgers   \n",
       "4       Chicken & tofu noodle soup   \n",
       "..                             ...   \n",
       "852          Delicious squash daal   \n",
       "853    Chicken & squash cacciatore   \n",
       "854  Apple & Lancashire cheese pie   \n",
       "855      All-in-one rice & chicken   \n",
       "856                 Aubergine daal   \n",
       "\n",
       "                                           ingredients  \n",
       "0    ['1 x 1.6kg whole duck', '2 heaped teaspoons C...  \n",
       "1    ['800 g Brussels sprouts', '2 higher-welfare C...  \n",
       "2    ['6 medium green and yellow courgettes', '500 ...  \n",
       "3    ['1½ red onions', '200 g mixed mushrooms', '10...  \n",
       "4    ['2 shallots', '2 cloves of garlic', '2 cm pie...  \n",
       "..                                                 ...  \n",
       "852  ['8 cloves of garlic', '2 fresh red chillies',...  \n",
       "853  ['1 onion', '1 leek', '4 cloves of garlic', '2...  \n",
       "854  ['500 g all butter puff pastry', '1 vegetable ...  \n",
       "855  ['olive oil', '2 free-range chicken legs', '2 ...  \n",
       "856  ['1 large aubergine', '2 red onions', '4 clove...  \n",
       "\n",
       "[857 rows x 3 columns]"
      ]
     },
     "execution_count": 5,
     "metadata": {},
     "output_type": "execute_result"
    }
   ],
   "source": [
    "# Specify columns to keep\n",
    "columns_to_keep = ['recipe_urls', 'recipe_name', 'ingredients']\n",
    "\n",
    "# Keeping only the specified columns\n",
    "filtered_data = df[columns_to_keep]\n",
    "\n",
    "# Display the filtered DataFrame\n",
    "print(\"\\nFiltered DataFrame:\")\n",
    "filtered_data\n"
   ]
  },
  {
   "cell_type": "code",
   "execution_count": 6,
   "id": "c1f5ecb8",
   "metadata": {},
   "outputs": [
    {
     "name": "stdout",
     "output_type": "stream",
     "text": [
      "\n",
      "Filtered DataFrame Info:\n",
      "<class 'pandas.core.frame.DataFrame'>\n",
      "RangeIndex: 857 entries, 0 to 856\n",
      "Data columns (total 3 columns):\n",
      " #   Column       Non-Null Count  Dtype \n",
      "---  ------       --------------  ----- \n",
      " 0   recipe_urls  857 non-null    object\n",
      " 1   recipe_name  857 non-null    object\n",
      " 2   ingredients  857 non-null    object\n",
      "dtypes: object(3)\n",
      "memory usage: 20.2+ KB\n",
      "None\n"
     ]
    }
   ],
   "source": [
    "\n",
    "# Display filtered DataFrame info\n",
    "print(\"\\nFiltered DataFrame Info:\")\n",
    "print(filtered_data.info())"
   ]
  },
  {
   "cell_type": "markdown",
   "id": "5caad585",
   "metadata": {},
   "source": [
    "# Data Wrangling"
   ]
  },
  {
   "cell_type": "markdown",
   "id": "19c28cbb",
   "metadata": {},
   "source": [
    "# Step 1: Clean and Prepare the Ingredients"
   ]
  },
  {
   "cell_type": "code",
   "execution_count": 8,
   "id": "9017360d",
   "metadata": {},
   "outputs": [
    {
     "name": "stdout",
     "output_type": "stream",
     "text": [
      "                     recipe_name  \\\n",
      "0  Roast duck with Marsala gravy   \n",
      "1     Best-ever Brussels sprouts   \n",
      "2  Beautiful courgette carbonara   \n",
      "3     Roasted black bean burgers   \n",
      "4     Chicken & tofu noodle soup   \n",
      "\n",
      "                                  ingredients_parsed  \n",
      "0  [x duck, heaped chinese fivespice powder, clem...  \n",
      "1  [g brussels sprout, higherwelfare cumberland s...  \n",
      "2  [medium yellow courgette, g penne, freerange e...  \n",
      "3  [onion, g mixed mushroom, g rye bread, coriand...  \n",
      "4  [shallot, of garlic, cm piece of ginger, freer...  \n"
     ]
    },
    {
     "name": "stderr",
     "output_type": "stream",
     "text": [
      "/var/folders/l6/74m9w2hs6dg1jnknmb5cj5940000gn/T/ipykernel_4757/4232906245.py:63: SettingWithCopyWarning: \n",
      "A value is trying to be set on a copy of a slice from a DataFrame.\n",
      "Try using .loc[row_indexer,col_indexer] = value instead\n",
      "\n",
      "See the caveats in the documentation: https://pandas.pydata.org/pandas-docs/stable/user_guide/indexing.html#returning-a-view-versus-a-copy\n",
      "  filtered_data['ingredients_parsed'] = filtered_data['ingredients'].apply(ingredient_parser)\n"
     ]
    }
   ],
   "source": [
    "import pandas as pd\n",
    "import nltk\n",
    "import string\n",
    "import ast\n",
    "import re\n",
    "import unidecode\n",
    "from nltk.stem import WordNetLemmatizer\n",
    "\n",
    "# Make sure to download required NLTK data files\n",
    "# nltk.download('wordnet')\n",
    "\n",
    "def ingredient_parser(ingreds):\n",
    "    '''\n",
    "    This function takes in a list (as a string from pandas dataframe) of \n",
    "    ingredients and performs some preprocessing.\n",
    "    '''\n",
    "    # Define measures and common words to remove\n",
    "    measures = [\n",
    "        'teaspoon', 'tablespoon', 'fluid ounce', 'cup', 'pint', 'quart', 'gallon',\n",
    "        'ml', 'liter', 'gram', 'kilogram', 'oz', 'mg', 'l', 'ml', 'inch', 'pound'\n",
    "        # Add any additional measures if needed\n",
    "    ]\n",
    "    words_to_remove = [\n",
    "        'fresh', 'oil', 'a', 'red', 'bunch', 'and', 'clove', 'leaf', 'large',\n",
    "        'ground', 'small', 'sliced', 'green', 'the', 'to', 'organic', 'optional',\n",
    "        'salt', 'pepper', 'with', 'for', 'can', 'more', 'half', 'whole', 'cubed',\n",
    "        # Add any additional words to remove\n",
    "    ]\n",
    "\n",
    "    # Convert the string of ingredients back into a list\n",
    "    if isinstance(ingreds, list):\n",
    "        ingredients = ingreds\n",
    "    else:\n",
    "        ingredients = ast.literal_eval(ingreds)\n",
    "\n",
    "    # Initialize the lemmatizer\n",
    "    lemmatizer = WordNetLemmatizer()\n",
    "    cleaned_ingredients = []\n",
    "\n",
    "    for ingredient in ingredients:\n",
    "        # Remove punctuation\n",
    "        ingredient = ingredient.translate(str.maketrans('', '', string.punctuation))\n",
    "        \n",
    "        # Split ingredients into words\n",
    "        items = re.split(r'\\s+|-', ingredient)\n",
    "        \n",
    "        # Clean up the words\n",
    "        items = [unidecode.unidecode(word).lower() for word in items if word.isalpha()]\n",
    "        items = [lemmatizer.lemmatize(word) for word in items]\n",
    "\n",
    "        # Filter out measures and common words\n",
    "        items = [word for word in items if word not in measures and word not in words_to_remove]\n",
    "\n",
    "        # Join cleaned items back into a string if not empty\n",
    "        if items:\n",
    "            cleaned_ingredients.append(' '.join(items))\n",
    "\n",
    "    return cleaned_ingredients\n",
    "\n",
    "if __name__ == \"__main__\":\n",
    "    \n",
    "    # Apply the ingredient parser to the ingredients column\n",
    "    filtered_data['ingredients_parsed'] = filtered_data['ingredients'].apply(ingredient_parser)\n",
    "    \n",
    "    # Drop any rows with NaN values\n",
    "    df = filtered_data.dropna(subset=['ingredients_parsed'])\n",
    "    \n",
    "    # Clean up recipe names if needed\n",
    "    m = df.recipe_name.str.endswith('Recipe - Allrecipes.com')\n",
    "    df.loc[m, 'recipe_name'] = df.loc[m, 'recipe_name'].str[:-23]\n",
    "\n",
    " \n",
    "\n",
    "    # Optional: Check the output\n",
    "    print(df[['recipe_name', 'ingredients_parsed']].head())\n"
   ]
  },
  {
   "cell_type": "code",
   "execution_count": 9,
   "id": "22b5c541",
   "metadata": {},
   "outputs": [],
   "source": [
    "def flatten_ingredients(ingredients_list):\n",
    "    \"\"\"Flattens a list of lists into a single list.\"\"\"\n",
    "    return [ingredient for sublist in ingredients_list for ingredient in sublist]\n"
   ]
  },
  {
   "cell_type": "code",
   "execution_count": 10,
   "id": "bdc55807",
   "metadata": {},
   "outputs": [],
   "source": [
    "from collections import Counter\n",
    "\n",
    "# Flatten the lists of parsed ingredients\n",
    "all_parsed_ingredients = flatten_ingredients(df['ingredients_parsed'])\n",
    "\n",
    "# Count the frequency of each ingredient\n",
    "ingredient_counts = Counter(all_parsed_ingredients)\n"
   ]
  },
  {
   "cell_type": "code",
   "execution_count": 11,
   "id": "05045b1b",
   "metadata": {},
   "outputs": [
    {
     "data": {
      "image/png": "[encoded data removed]",
      "text/plain": [
       "<Figure size 1200x600 with 1 Axes>"
      ]
     },
     "metadata": {},
     "output_type": "display_data"
    }
   ],
   "source": [
    "import matplotlib.pyplot as plt\n",
    "\n",
    "# Get the most common ingredients\n",
    "common_ingredients = ingredient_counts.most_common(20)\n",
    "ingredients, counts = zip(*common_ingredients)\n",
    "\n",
    "# Plot the frequency of the most common ingredients\n",
    "plt.figure(figsize=(12, 6))\n",
    "plt.barh(ingredients, counts, color='skyblue')\n",
    "plt.xlabel('Frequency')\n",
    "plt.title('Most Common Ingredients')\n",
    "plt.gca().invert_yaxis()  # Invert y-axis to have the highest on top\n",
    "plt.show()\n"
   ]
  },
  {
   "cell_type": "markdown",
   "id": "6de5e59d",
   "metadata": {},
   "source": [
    "# Feature Extraction"
   ]
  },
  {
   "cell_type": "code",
   "execution_count": 13,
   "id": "45678510",
   "metadata": {},
   "outputs": [
    {
     "name": "stdout",
     "output_type": "stream",
     "text": [
      "(857, 1553)\n"
     ]
    },
    {
     "data": {
      "text/plain": [
       "['recipe_data.pkl']"
      ]
     },
     "execution_count": 13,
     "metadata": {},
     "output_type": "execute_result"
    }
   ],
   "source": [
    "from sklearn.feature_extraction.text import TfidfVectorizer\n",
    "\n",
    "\n",
    "df['ingredients_aggregated'] = df['ingredients_parsed'].apply(lambda x: ' '.join(x))\n",
    "\n",
    "# Initialize the TF-IDF Vectorizer\n",
    "tfidf_vectorizer = TfidfVectorizer()\n",
    "\n",
    "# Fit and transform the ingredients\n",
    "tfidf_matrix = tfidf_vectorizer.fit_transform(df['ingredients_aggregated'])\n",
    "\n",
    "# Print the shape of the TF-IDF matrix\n",
    "print(tfidf_matrix.shape)  # (number_of_recipes, number_of_unique_ingredients)\n",
    "# Save the TF-IDF model and vectorizer\n",
    "joblib.dump(tfidf_vectorizer, 'tfidf_vectorizer.pkl')\n",
    "joblib.dump(tfidf_matrix, 'tfidf_matrix.pkl')  \n",
    "joblib.dump(df, 'recipe_data.pkl')\n"
   ]
  },
  {
   "cell_type": "markdown",
   "id": "20afc470",
   "metadata": {},
   "source": [
    "# Recommendation Logic"
   ]
  },
  {
   "cell_type": "code",
   "execution_count": 37,
   "id": "72e783d8",
   "metadata": {},
   "outputs": [],
   "source": [
    "\n",
    "# Function to recommend recipes based on given ingredients\n",
    "def recommend_recipes(input_ingredients, num_recommendations=5):\n",
    "    # Aggregate the input ingredients into a single string\n",
    "    input_ingredients_str = ' '.join(input_ingredients)\n",
    "\n",
    "    # Transform the input ingredients using the same TF-IDF Vectorizer\n",
    "    input_tfidf = tfidf_vectorizer.transform([input_ingredients_str])\n",
    "\n",
    "    # Calculate cosine similarity between the input and the recipe TF-IDF matrix\n",
    "    cosine_similarities = cosine_similarity(input_tfidf, tfidf_matrix)\n",
    "\n",
    "    # Get the similarity scores and sort them\n",
    "    similarity_scores = list(enumerate(cosine_similarities[0]))\n",
    "    similarity_scores = sorted(similarity_scores, key=lambda x: x[1], reverse=True)\n",
    "\n",
    "    # Get the indices of the top N recommendations\n",
    "    recommended_indices = [i[0] for i in similarity_scores[1:num_recommendations + 1]]\n",
    "\n",
    "    return df.iloc[recommended_indices]"
   ]
  },
  {
   "cell_type": "code",
   "execution_count": 40,
   "id": "0a0bf7f6",
   "metadata": {},
   "outputs": [
    {
     "name": "stdout",
     "output_type": "stream",
     "text": [
      "                                 recipe_name  \\\n",
      "856                           Aubergine daal   \n",
      "59                      Spicy sticky chicken   \n",
      "184  Summery pea soup with turmeric scallops   \n",
      "495                       Pukka yellow curry   \n",
      "5                        Chicken katsu curry   \n",
      "\n",
      "                                ingredients_aggregated  \n",
      "856  aubergine onion of garlic cm piece of ginger r...  \n",
      "59   chilli onion of garlic plum tomato of coriande...  \n",
      "184  of spring onion of garlic piece of ginger chil...  \n",
      "495  onion of garlic cm piece of ginger yellow chic...  \n",
      "5    x freerange skinless boneless chicken breast b...  \n"
     ]
    }
   ],
   "source": [
    "# Example usage\n",
    "input_ingredients = ['chicken', 'curry', 'onion']  # Example input ingredients\n",
    "recommended_recipes = recommend_recipes(input_ingredients, num_recommendations=5)\n",
    "print(recommended_recipes[['recipe_name', 'ingredients_aggregated']])"
   ]
  },
  {
   "cell_type": "code",
   "execution_count": 41,
   "id": "46960366",
   "metadata": {},
   "outputs": [
    {
     "name": "stdout",
     "output_type": "stream",
     "text": [
      "<class 'pandas.core.frame.DataFrame'>\n",
      "RangeIndex: 857 entries, 0 to 856\n",
      "Data columns (total 6 columns):\n",
      " #   Column                  Non-Null Count  Dtype \n",
      "---  ------                  --------------  ----- \n",
      " 0   recipe_urls             857 non-null    object\n",
      " 1   recipe_name             857 non-null    object\n",
      " 2   ingredients             857 non-null    object\n",
      " 3   cleaned_ingredients     857 non-null    object\n",
      " 4   ingredients_parsed      857 non-null    object\n",
      " 5   ingredients_aggregated  857 non-null    object\n",
      "dtypes: object(6)\n",
      "memory usage: 40.3+ KB\n"
     ]
    }
   ],
   "source": [
    "df.info()"
   ]
  },
  {
   "cell_type": "code",
   "execution_count": 42,
   "id": "9d315c73",
   "metadata": {},
   "outputs": [
    {
     "data": {
      "text/html": [
       "<div>\n",
       "<style scoped>\n",
       "    .dataframe tbody tr th:only-of-type {\n",
       "        vertical-align: middle;\n",
       "    }\n",
       "\n",
       "    .dataframe tbody tr th {\n",
       "        vertical-align: top;\n",
       "    }\n",
       "\n",
       "    .dataframe thead th {\n",
       "        text-align: right;\n",
       "    }\n",
       "</style>\n",
       "<table border=\"1\" class=\"dataframe\">\n",
       "  <thead>\n",
       "    <tr style=\"text-align: right;\">\n",
       "      <th></th>\n",
       "      <th>recipe_urls</th>\n",
       "      <th>recipe_name</th>\n",
       "      <th>ingredients</th>\n",
       "      <th>cleaned_ingredients</th>\n",
       "      <th>ingredients_parsed</th>\n",
       "      <th>ingredients_aggregated</th>\n",
       "    </tr>\n",
       "  </thead>\n",
       "  <tbody>\n",
       "    <tr>\n",
       "      <th>0</th>\n",
       "      <td>https://www.jamieoliver.com/recipes/duck-recip...</td>\n",
       "      <td>Roast duck with Marsala gravy</td>\n",
       "      <td>['1 x 1.6kg whole duck', '2 heaped teaspoons C...</td>\n",
       "      <td>[., -spice_powder, , , gravy, , , , , , , ]</td>\n",
       "      <td>[x duck, heaped chinese fivespice powder, clem...</td>\n",
       "      <td>x duck heaped chinese fivespice powder clement...</td>\n",
       "    </tr>\n",
       "    <tr>\n",
       "      <th>1</th>\n",
       "      <td>https://www.jamieoliver.com/recipes/vegetable-...</td>\n",
       "      <td>Best-ever Brussels sprouts</td>\n",
       "      <td>['800 g Brussels sprouts', '2 higher-welfare C...</td>\n",
       "      <td>[, -welfare_cumberland_sausages, ½_a_bunch_of_...</td>\n",
       "      <td>[g brussels sprout, higherwelfare cumberland s...</td>\n",
       "      <td>g brussels sprout higherwelfare cumberland sau...</td>\n",
       "    </tr>\n",
       "    <tr>\n",
       "      <th>2</th>\n",
       "      <td>https://www.jamieoliver.com/recipes/pasta-reci...</td>\n",
       "      <td>Beautiful courgette carbonara</td>\n",
       "      <td>['6 medium green and yellow courgettes', '500 ...</td>\n",
       "      <td>[, , -range_eggs, , , olive_oil, -welfare_back...</td>\n",
       "      <td>[medium yellow courgette, g penne, freerange e...</td>\n",
       "      <td>medium yellow courgette g penne freerange egg ...</td>\n",
       "    </tr>\n",
       "    <tr>\n",
       "      <th>3</th>\n",
       "      <td>https://www.jamieoliver.com/recipes/vegetable-...</td>\n",
       "      <td>Roasted black bean burgers</td>\n",
       "      <td>['1½ red onions', '200 g mixed mushrooms', '10...</td>\n",
       "      <td>[, , , ground_coriander, , olive_oil, , , , , ...</td>\n",
       "      <td>[onion, g mixed mushroom, g rye bread, coriand...</td>\n",
       "      <td>onion g mixed mushroom g rye bread coriander x...</td>\n",
       "    </tr>\n",
       "    <tr>\n",
       "      <th>4</th>\n",
       "      <td>https://www.jamieoliver.com/recipes/chicken-re...</td>\n",
       "      <td>Chicken &amp; tofu noodle soup</td>\n",
       "      <td>['2 shallots', '2 cloves of garlic', '2 cm pie...</td>\n",
       "      <td>[, , , -range_chicken_thighs_,_skin_off,_bone_...</td>\n",
       "      <td>[shallot, of garlic, cm piece of ginger, freer...</td>\n",
       "      <td>shallot of garlic cm piece of ginger freerange...</td>\n",
       "    </tr>\n",
       "  </tbody>\n",
       "</table>\n",
       "</div>"
      ],
      "text/plain": [
       "                                         recipe_urls  \\\n",
       "0  https://www.jamieoliver.com/recipes/duck-recip...   \n",
       "1  https://www.jamieoliver.com/recipes/vegetable-...   \n",
       "2  https://www.jamieoliver.com/recipes/pasta-reci...   \n",
       "3  https://www.jamieoliver.com/recipes/vegetable-...   \n",
       "4  https://www.jamieoliver.com/recipes/chicken-re...   \n",
       "\n",
       "                     recipe_name  \\\n",
       "0  Roast duck with Marsala gravy   \n",
       "1     Best-ever Brussels sprouts   \n",
       "2  Beautiful courgette carbonara   \n",
       "3     Roasted black bean burgers   \n",
       "4     Chicken & tofu noodle soup   \n",
       "\n",
       "                                         ingredients  \\\n",
       "0  ['1 x 1.6kg whole duck', '2 heaped teaspoons C...   \n",
       "1  ['800 g Brussels sprouts', '2 higher-welfare C...   \n",
       "2  ['6 medium green and yellow courgettes', '500 ...   \n",
       "3  ['1½ red onions', '200 g mixed mushrooms', '10...   \n",
       "4  ['2 shallots', '2 cloves of garlic', '2 cm pie...   \n",
       "\n",
       "                                 cleaned_ingredients  \\\n",
       "0        [., -spice_powder, , , gravy, , , , , , , ]   \n",
       "1  [, -welfare_cumberland_sausages, ½_a_bunch_of_...   \n",
       "2  [, , -range_eggs, , , olive_oil, -welfare_back...   \n",
       "3  [, , , ground_coriander, , olive_oil, , , , , ...   \n",
       "4  [, , , -range_chicken_thighs_,_skin_off,_bone_...   \n",
       "\n",
       "                                  ingredients_parsed  \\\n",
       "0  [x duck, heaped chinese fivespice powder, clem...   \n",
       "1  [g brussels sprout, higherwelfare cumberland s...   \n",
       "2  [medium yellow courgette, g penne, freerange e...   \n",
       "3  [onion, g mixed mushroom, g rye bread, coriand...   \n",
       "4  [shallot, of garlic, cm piece of ginger, freer...   \n",
       "\n",
       "                              ingredients_aggregated  \n",
       "0  x duck heaped chinese fivespice powder clement...  \n",
       "1  g brussels sprout higherwelfare cumberland sau...  \n",
       "2  medium yellow courgette g penne freerange egg ...  \n",
       "3  onion g mixed mushroom g rye bread coriander x...  \n",
       "4  shallot of garlic cm piece of ginger freerange...  "
      ]
     },
     "execution_count": 42,
     "metadata": {},
     "output_type": "execute_result"
    }
   ],
   "source": [
    "df.head()"
   ]
  },
  {
   "cell_type": "code",
   "execution_count": 48,
   "id": "723eefdd",
   "metadata": {},
   "outputs": [
    {
     "name": "stdout",
     "output_type": "stream",
     "text": [
      "['chicken', 'curry', 'onion']\n",
      "                                 recipe_name  \\\n",
      "856                           Aubergine daal   \n",
      "59                      Spicy sticky chicken   \n",
      "184  Summery pea soup with turmeric scallops   \n",
      "495                       Pukka yellow curry   \n",
      "5                        Chicken katsu curry   \n",
      "\n",
      "                                           recipe_urls  \n",
      "856  https://www.jamieoliver.com/recipes/vegetables...  \n",
      "59   https://www.jamieoliver.com/recipes/chicken-re...  \n",
      "184  https://www.jamieoliver.com/recipes/seafood-re...  \n",
      "495  https://www.jamieoliver.com/recipes/chicken-re...  \n",
      "5    https://www.jamieoliver.com/recipes/chicken-re...  \n"
     ]
    }
   ],
   "source": [
    "def recommend_recipes(input_ingredients, num_recommendations=5):\n",
    "    # Load the TF-IDF vectorizer and recipe data\n",
    "    tfidf_vectorizer = joblib.load('tfidf_vectorizer.pkl')\n",
    "    df = joblib.load('recipe_data.pkl')\n",
    "\n",
    "    # Aggregate the input ingredients into a single string\n",
    "    input_ingredients_str = ' '.join(input_ingredients)\n",
    "\n",
    "    # Transform the input ingredients using the same TF-IDF Vectorizer\n",
    "    input_tfidf = tfidf_vectorizer.transform([input_ingredients_str])\n",
    "\n",
    "    # Calculate cosine similarity between the input and the recipe TF-IDF matrix\n",
    "    cosine_similarities = cosine_similarity(input_tfidf, tfidf_matrix)\n",
    "\n",
    "    # Get the similarity scores and sort them\n",
    "    similarity_scores = list(enumerate(cosine_similarities[0]))\n",
    "    similarity_scores = sorted(similarity_scores, key=lambda x: x[1], reverse=True)\n",
    "\n",
    "    # Get the indices of the top N recommendations\n",
    "    recommended_indices = [i[0] for i in similarity_scores[1:num_recommendations + 1]]\n",
    "\n",
    "    # Return recommended recipes and their URLs\n",
    "    return df.iloc[recommended_indices][['recipe_name', 'recipe_urls']]\n",
    "\n",
    "# Example usage\n",
    "input_ingredients = ['chicken', 'curry', 'onion']  # Example input ingredients\n",
    "recommended_recipes = recommend_recipes(input_ingredients, num_recommendations=5)\n",
    "print(input_ingredients)\n",
    "print(recommended_recipes)\n"
   ]
  },
  {
   "cell_type": "code",
   "execution_count": null,
   "id": "30486f49",
   "metadata": {},
   "outputs": [],
   "source": []
  }
 ],
 "metadata": {
  "kernelspec": {
   "display_name": "Python 3 (ipykernel)",
   "language": "python",
   "name": "python3"
  },
  "language_info": {
   "codemirror_mode": {
    "name": "ipython",
    "version": 3
   },
   "file_extension": ".py",
   "mimetype": "text/x-python",
   "name": "python",
   "nbconvert_exporter": "python",
   "pygments_lexer": "ipython3",
   "version": "3.11.0"
  }
 },
 "nbformat": 4,
 "nbformat_minor": 5
}
